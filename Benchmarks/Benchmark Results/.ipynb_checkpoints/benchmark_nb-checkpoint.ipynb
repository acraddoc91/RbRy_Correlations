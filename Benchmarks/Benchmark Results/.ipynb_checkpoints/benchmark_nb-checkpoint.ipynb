{
 "cells": [
  {
   "cell_type": "code",
   "execution_count": null,
   "metadata": {
    "collapsed": true
   },
   "outputs": [],
   "source": [
    "# This is an example notebook to demonstrate how the docker container can be used with Jupyter\n",
    "\n",
    "# Some important things to note: the only directories exposed to the outside world should be /home/rbry,\n",
    "# which is mounted at runtime and the /NAS folder, which contains the lab NAS. If you save anything NOT in these folders\n",
    "# it'll be lost when the container closes\n",
    "#\n",
    "# The /NAS folder should have the same directory structure as it does if you mounted the NAS in windows, i.e. if the NAS\n",
    "# on Windows is the Z: drive and you're trying to get to something in the Z:/Data folder it'll be in /NAS/Data here.\n",
    "# Python doesn't deal well with '\\' to seperate directories (which is what Windows does) so make sure you're using '/'\n",
    "# if you copy a filename/folder name over\n",
    "#\n",
    "# The raw code for all this stuff can be found here: https://github.com/acraddoc91/PythonCorrelationsAllCPU/tree/master/pythonDLLCPU_linux/docker_image\n",
    "#\n",
    "# Due to the way Jupyter works you won't be able to see the block progress in this window, but it will be displayed in the\n",
    "# command window that you started the Docker container from"
   ]
  },
  {
   "cell_type": "code",
   "execution_count": 1,
   "metadata": {},
   "outputs": [],
   "source": [
    "# Import the library which does all the correlations wizardry\n",
    "from corrLib import g2ToFile\n",
    "import numpy as np\n",
    "import time\n",
    "import os\n",
    "import scipy"
   ]
  },
  {
   "cell_type": "code",
   "execution_count": 5,
   "metadata": {},
   "outputs": [],
   "source": [
    "mat_directory = \"/Output/\"\n",
    "data_folder = \"/Local\"\n",
    "\n",
    "mat_file = mat_directory+\"g2_out\"\n",
    "benchmark_mat = mat_directory+\"reduced_per_photon_histogram_cpu_docker_benchmark\""
   ]
  },
  {
   "cell_type": "code",
   "execution_count": 7,
   "metadata": {},
   "outputs": [
    {
     "name": "stdout",
     "output_type": "stream",
     "text": [
      "Finished in 12.066142320632935s\n",
      "1 0.0009876 13.093010187149048\n",
      "Finished in 13.766639709472656s\n",
      "2 0.0019752 14.775591135025024\n",
      "Finished in 12.912960767745972s\n",
      "5 0.004938 13.923421382904053\n",
      "Finished in 12.909652709960938s\n",
      "10 0.009876 13.920040369033813\n",
      "Finished in 12.970678806304932s\n",
      "20 0.019752 13.980906963348389\n",
      "Finished in 13.044246196746826s\n",
      "50 0.04937999999999999 14.054702520370483\n",
      "Finished in 12.82175350189209s\n",
      "100 0.09875999999999999 13.831759691238403\n",
      "Finished in 14.925249814987183s\n",
      "200 0.19751999999999997 15.93628716468811\n",
      "Finished in 12.57530164718628s\n",
      "500 0.4938 13.584531784057617\n",
      "Finished in 13.776524782180786s\n",
      "1000 0.9876 14.78598928451538\n",
      "Finished in 12.876611948013306s\n",
      "2000 1.9752 13.886123180389404\n",
      "Finished in 14.112780094146729s\n",
      "5000 4.938 15.12364411354065\n",
      "Finished in 12.584549188613892s\n",
      "10000 9.876 13.594803094863892\n",
      "Finished in 12.900952100753784s\n",
      "20000 19.752 13.915003299713135\n",
      "Finished in 14.113690376281738s\n",
      "50000 49.379999999999995 15.134618759155273\n",
      "Finished in 13.125859260559082s\n",
      "100000 98.75999999999999 14.161498308181763\n",
      "Finished in 13.114619731903076s\n",
      "200000 197.51999999999998 14.179105997085571\n",
      "Finished in 13.224405765533447s\n",
      "500000 493.79999999999995 14.339231491088867\n",
      "Finished in 13.579354763031006s\n",
      "1000000 987.5999999999999 14.790374755859375\n",
      "Finished in 16.321019172668457s\n",
      "2000000 1975.1999999999998 17.755903959274292\n",
      "Finished in 16.832464456558228s\n",
      "5000000 4938.0 18.944732666015625\n"
     ]
    }
   ],
   "source": [
    "bin_width = 82.3e-12*12\n",
    "pulse_spacing = 100e-6\n",
    "max_pulse_distance = 4\n",
    "half_tau_bins = np.array([1,2,5,10,20,50,100,200,500,1000,2000,5000,10000,20000,50000,100000,200000,500000,1000000,2000000,5000000])\n",
    "calc_bins = half_tau_bins * 2 + 1\n",
    "time_taken = np.zeros(len(half_tau_bins))\n",
    "for i in range(len(half_tau_bins)):\n",
    "    max_time = half_tau_bins[i] * bin_width\n",
    "    start_time = time.time()\n",
    "    g2ToFile(data_folder,mat_file,max_time,bin_width,pulse_spacing,max_pulse_distance)\n",
    "    time_taken[i] = time.time()-start_time\n",
    "    print(half_tau_bins[i],max_time*1e6,time_taken[i],)"
   ]
  },
  {
   "cell_type": "code",
   "execution_count": null,
   "metadata": {},
   "outputs": [],
   "source": []
  }
 ],
 "metadata": {
  "kernelspec": {
   "display_name": "Python 3",
   "language": "python",
   "name": "python3"
  },
  "language_info": {
   "codemirror_mode": {
    "name": "ipython",
    "version": 3
   },
   "file_extension": ".py",
   "mimetype": "text/x-python",
   "name": "python",
   "nbconvert_exporter": "python",
   "pygments_lexer": "ipython3",
   "version": "3.6.7"
  }
 },
 "nbformat": 4,
 "nbformat_minor": 2
}
